{
 "cells": [
  {
   "cell_type": "markdown",
   "id": "0b2558be",
   "metadata": {},
   "source": [
    "## Weekly Activity"
   ]
  },
  {
   "cell_type": "code",
   "execution_count": 1,
   "id": "0aecc653",
   "metadata": {},
   "outputs": [
    {
     "data": {
      "text/plain": [
       "True"
      ]
     },
     "execution_count": 1,
     "metadata": {},
     "output_type": "execute_result"
    }
   ],
   "source": [
    "import sys\n",
    "# Python 3.7 is required\n",
    "assert sys.version_info >= (3, 7)\n",
    "\n",
    "import cv2 as cv\n",
    "import numpy as np\n",
    "from util_func import show_img\n",
    "import matplotlib.pyplot as plt\n",
    "\n",
    "np.random.seed(99)\n",
    "\n",
    "# Make sure that optimization is enabled\n",
    "if not cv.useOptimized():\n",
    "    cv.setUseOptimized(True)\n",
    "    \n",
    "cv.useOptimized()"
   ]
  },
  {
   "cell_type": "markdown",
   "id": "97faccb7",
   "metadata": {},
   "source": [
    "1. Create a __random noise color and grayscale__ image. You can set your own width and height, but keep the total number of pixels of both images identical."
   ]
  },
  {
   "cell_type": "code",
   "execution_count": 2,
   "id": "97348322",
   "metadata": {},
   "outputs": [],
   "source": [
    "img = np.random.randint(0, high=256, size = (200,200, 3), dtype=np.uint8)\n",
    "img2 = np.random.randint(0, high=256, size = (200, 200), dtype=np.uint8)\n",
    "\n",
    "show_img('random noise color', img)\n",
    "show_img('random noise grayscale', img2)"
   ]
  },
  {
   "cell_type": "markdown",
   "id": "21708c1e",
   "metadata": {},
   "source": [
    "2. Convert the code chunk found under section Divide an image into smaller patches using cropping into a function with the following signature:\n",
    "        \n",
    "        crop_grid(img, num_horizontal_grid, num_vertical_grid, line_color)\n",
    "        # img is the source image\n",
    "        # num_horizontal_grid and num_vertical_grid are the number of patches along x and y axes.\n",
    "        # line_color is the color of the grid line.\n",
    "        # The output of the function should be image with grids"
   ]
  },
  {
   "cell_type": "code",
   "execution_count": 3,
   "id": "3faa7d32",
   "metadata": {},
   "outputs": [],
   "source": [
    "def crop_grid(img, num_horizontal_grid, num_vertical_grid, line_color):\n",
    "    \"\"\"Argument: img=source image\n",
    "                 h_grid n v_gird=pateches along x n y axis\n",
    "                 line_c=color of grid\n",
    "    \"\"\"   \n",
    "    height, width = img.shape[:2]\n",
    "    num_vertical_patches = num_vertical_grid\n",
    "    num_horizontal_patches = num_horizontal_grid\n",
    "    \n",
    "    M, N = int(height / num_vertical_patches), int(width / num_horizontal_patches)\n",
    "    \n",
    "    x1, y1 = 0, 0\n",
    "\n",
    "    for y in range(0, height, M):\n",
    "        for x in range(0, width, N):\n",
    "        \n",
    "            y1 = y + M\n",
    "            x1 = x + N\n",
    "        \n",
    "            if x1>=width and y1>=height:\n",
    "                x1 = width-1\n",
    "                y1 = height-1\n",
    "                tile = img[y:height, x:width]\n",
    "                cv.rectangle(img, (x,y), (x1, y1), line_color, 1)\n",
    "            \n",
    "            elif y1>=height:\n",
    "                y1 = height-1\n",
    "                cv.rectangle(img, (x, y), (x1, y1), line_color, 1)\n",
    "            \n",
    "            elif x1>=width:\n",
    "                x1 = width-1\n",
    "                cv.rectangle(img, (x, y), (x1, y1), line_color, 1)\n",
    "            \n",
    "            else:\n",
    "                cv.rectangle(img, (x, y), (x1, y1), line_color, 1)\n",
    "            \n",
    "            \n",
    "    return img"
   ]
  },
  {
   "cell_type": "code",
   "execution_count": 4,
   "id": "b931ef6a",
   "metadata": {},
   "outputs": [],
   "source": [
    "img = cv.imread(\"images/bridge.jfif\")\n",
    "pic = crop_grid(img, 4, 3, (255, 0, 0))\n",
    "\n",
    "show_img('patched image', pic)"
   ]
  },
  {
   "cell_type": "markdown",
   "id": "40dae4b3",
   "metadata": {},
   "source": [
    "3. Display image sequences of smooth transition of two images with different values of $\\alpha$. Refer to code in section \"Image blending\". Use \"lena.jfif\" and \"coins.jfif\" as the base images."
   ]
  },
  {
   "cell_type": "code",
   "execution_count": 5,
   "id": "b8ba7520",
   "metadata": {},
   "outputs": [],
   "source": [
    "img1 = cv.imread(\"images/lena.jfif\")\n",
    "img2 = cv.imread(\"images/coins.jfif\")\n",
    "\n",
    "# Reshape img2\n",
    "new_shape = img1.shape[:2]\n",
    "img2 = cv.resize(img2, new_shape[::-1])\n",
    "\n",
    "alpha = 0\n",
    "\n",
    "while alpha <= 1:\n",
    "    dst = cv.addWeighted(img1, alpha, img2, 0.2, 0)\n",
    "    show_img('blending', dst)\n",
    "    alpha = alpha + 0.1"
   ]
  },
  {
   "cell_type": "markdown",
   "id": "54502b62",
   "metadata": {},
   "source": [
    "4. Suppose you are a digital content creator and wish to share photo online. However, you wish to protect these images from being stolen or altered by others. Leverage your image processing knowledge to apply watermark on image \"travel_hd.jpg\". The example of resulting watermarked image are as shown in the following:"
   ]
  },
  {
   "cell_type": "code",
   "execution_count": 6,
   "id": "8ed8964b",
   "metadata": {},
   "outputs": [
    {
     "name": "stdout",
     "output_type": "stream",
     "text": [
      "(6000, 4000, 3)\n"
     ]
    }
   ],
   "source": [
    "img = cv.imread(\"images/travel_hd.jpg\")\n",
    "print(img.shape)"
   ]
  },
  {
   "cell_type": "code",
   "execution_count": 7,
   "id": "6b3a5aad",
   "metadata": {},
   "outputs": [],
   "source": [
    "img1 = cv.imread(\"images/travel_hd.jpg\")\n",
    "img2 = cv.imread(\"images/Q4.jpg\")\n",
    "\n",
    "# Reshape img2\n",
    "new_shape = img1.shape[:2]\n",
    "img2 = cv.resize(img2, new_shape[::-1])\n",
    "\n",
    "dst = cv.addWeighted(img1, 1.0, img2, 0.6, 0)\n",
    "resize = cv.resize(dst, None, fx=0.12, fy=0.12, interpolation=cv.INTER_CUBIC)\n",
    "\n",
    "show_img('blending', resize)"
   ]
  }
 ],
 "metadata": {
  "kernelspec": {
   "display_name": "Python 3 (ipykernel)",
   "language": "python",
   "name": "python3"
  },
  "language_info": {
   "codemirror_mode": {
    "name": "ipython",
    "version": 3
   },
   "file_extension": ".py",
   "mimetype": "text/x-python",
   "name": "python",
   "nbconvert_exporter": "python",
   "pygments_lexer": "ipython3",
   "version": "3.9.12"
  }
 },
 "nbformat": 4,
 "nbformat_minor": 5
}
