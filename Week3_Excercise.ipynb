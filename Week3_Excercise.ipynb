{
 "cells": [
  {
   "cell_type": "code",
   "execution_count": 1,
   "id": "2ec3929e",
   "metadata": {},
   "outputs": [
    {
     "data": {
      "text/plain": [
       "True"
      ]
     },
     "execution_count": 1,
     "metadata": {},
     "output_type": "execute_result"
    }
   ],
   "source": [
    "import sys\n",
    "# Python 3.7 is required\n",
    "assert sys.version_info >= (3, 7)\n",
    "\n",
    "import cv2 as cv\n",
    "import numpy as np\n",
    "\n",
    "# Make sure that OpenCV optimization is enabled\n",
    "if not cv.useOptimized():\n",
    "    cv.setUseOptimized(True)\n",
    "    \n",
    "cv.useOptimized()"
   ]
  },
  {
   "cell_type": "markdown",
   "id": "f97f414d",
   "metadata": {},
   "source": [
    "## Question 3"
   ]
  },
  {
   "cell_type": "code",
   "execution_count": 2,
   "id": "f4542247",
   "metadata": {},
   "outputs": [],
   "source": [
    "cap = cv.VideoCapture('videos/img_pexels.mp4')\n",
    "fps = cap.get(cv.CAP_PROP_FPS)\n",
    "output_fps = fps // 2\n",
    "\n",
    "fourcc = cv.VideoWriter_fourcc('M', 'J', 'P', 'G')\n",
    "out = cv.VideoWriter('videos/out.avi', fourcc, output_fps, (int(cap.get(3)), int(cap.get(4))))\n",
    "\n",
    "while cap.isOpened():\n",
    "    ret, frame = cap.read()\n",
    "    \n",
    "    if not ret:\n",
    "        print(\"Can't receive frame\")\n",
    "        break\n",
    " \n",
    "    out.write(frame)\n",
    "    \n",
    "    cv.namedWindow(\"frame\", cv.WINDOW_NORMAL)\n",
    "    cv.imshow('frame', frame)\n",
    "    if cv.waitKey(1) & 0xFF == 27:\n",
    "        break\n",
    "        \n",
    "cap.release()\n",
    "out.release()\n",
    "cv.destroyAllWindows()"
   ]
  },
  {
   "cell_type": "markdown",
   "id": "edfd00c7",
   "metadata": {},
   "source": [
    "## Question 4"
   ]
  },
  {
   "cell_type": "code",
   "execution_count": 3,
   "id": "4dd5e864",
   "metadata": {},
   "outputs": [],
   "source": [
    "img = cv.imread('images/dog.jfif')\n",
    "\n",
    "cv.imshow('original', img)\n",
    "cv.waitKey(0)\n",
    "cv.destroyAllWindows()"
   ]
  },
  {
   "cell_type": "code",
   "execution_count": 4,
   "id": "0f3ab6e8",
   "metadata": {},
   "outputs": [],
   "source": [
    "img = cv.imread('images/dog.jfif')\n",
    "\n",
    "img_resize = cv.resize(img, None, fx=2.0, fy=2.0, interpolation=cv.INTER_LINEAR)\n",
    "\n",
    "cv.imshow('upscale', img_resize)\n",
    "cv.waitKey(0)\n",
    "cv.destroyAllWindows()\n",
    "\n",
    "#A bit blurry, edge of dog are blurry too"
   ]
  },
  {
   "cell_type": "code",
   "execution_count": 5,
   "id": "d3590dc7",
   "metadata": {},
   "outputs": [],
   "source": [
    "img = cv.imread('images/dog.jfif')\n",
    "\n",
    "img_resize = cv.resize(img, None, fx=2.0, fy=2.0, interpolation=cv.INTER_CUBIC)\n",
    "\n",
    "cv.imshow('upscale', img_resize)\n",
    "cv.waitKey(0)\n",
    "cv.destroyAllWindows()\n",
    "\n",
    "#The most clear image out of three"
   ]
  },
  {
   "cell_type": "code",
   "execution_count": 6,
   "id": "16c59f16",
   "metadata": {},
   "outputs": [],
   "source": [
    "img = cv.imread('images/dog.jfif')\n",
    "\n",
    "img_resize = cv.resize(img, None, fx=2.0, fy=2.0, interpolation=cv.INTER_NEAREST)\n",
    "\n",
    "cv.imshow('upscale', img_resize)\n",
    "cv.waitKey(0)\n",
    "cv.destroyAllWindows()\n",
    "\n",
    "#The pixels can be seen clearly especially edge of dog"
   ]
  }
 ],
 "metadata": {
  "kernelspec": {
   "display_name": "Python 3 (ipykernel)",
   "language": "python",
   "name": "python3"
  },
  "language_info": {
   "codemirror_mode": {
    "name": "ipython",
    "version": 3
   },
   "file_extension": ".py",
   "mimetype": "text/x-python",
   "name": "python",
   "nbconvert_exporter": "python",
   "pygments_lexer": "ipython3",
   "version": "3.9.12"
  }
 },
 "nbformat": 4,
 "nbformat_minor": 5
}
